{
  "nbformat": 4,
  "nbformat_minor": 0,
  "metadata": {
    "colab": {
      "name": "Image Classifier.ipynb",
      "provenance": [],
      "collapsed_sections": [],
      "mount_file_id": "14csyXxXHlVOTiqGvHIrYVnkJK_OkRJyl",
      "authorship_tag": "ABX9TyMCV0iWUMFKfNqcOEuU0svE",
      "include_colab_link": true
    },
    "kernelspec": {
      "display_name": "Python 3",
      "name": "python3"
    },
    "language_info": {
      "name": "python"
    }
  },
  "cells": [
    {
      "cell_type": "markdown",
      "metadata": {
        "id": "view-in-github",
        "colab_type": "text"
      },
      "source": [
        "<a href=\"https://colab.research.google.com/github/ysh4eva/MiniProject/blob/main/Image_Classifier.ipynb\" target=\"_parent\"><img src=\"https://colab.research.google.com/assets/colab-badge.svg\" alt=\"Open In Colab\"/></a>"
      ]
    },
    {
      "cell_type": "markdown",
      "metadata": {
        "id": "p5eiVeG13N51"
      },
      "source": [
        "Data : Image\n",
        "1. Download Images Manually\n",
        "2. Download dataser from Kaggle\n",
        "3. Build a Image web crawler\n",
        "4. *Using Python Libraries* "
      ]
    },
    {
      "cell_type": "code",
      "metadata": {
        "colab": {
          "base_uri": "https://localhost:8080/"
        },
        "id": "eW5M-cZ-3L9Q",
        "outputId": "ba28fdbd-be5f-48c5-f2a3-8a29a3b63a94"
      },
      "source": [
        "!pip install bing-image-downloader"
      ],
      "execution_count": 1,
      "outputs": [
        {
          "output_type": "stream",
          "text": [
            "Requirement already satisfied: bing-image-downloader in /usr/local/lib/python3.7/dist-packages (1.1.0)\n"
          ],
          "name": "stdout"
        }
      ]
    },
    {
      "cell_type": "code",
      "metadata": {
        "colab": {
          "base_uri": "https://localhost:8080/"
        },
        "id": "VfggkFO693kk",
        "outputId": "e8006ac6-10a4-4fd8-903b-deac687be88f"
      },
      "source": [
        "!pip install ipython-autotime\n",
        "%load_ext autotime"
      ],
      "execution_count": 2,
      "outputs": [
        {
          "output_type": "stream",
          "text": [
            "Requirement already satisfied: ipython-autotime in /usr/local/lib/python3.7/dist-packages (0.3.1)\n",
            "Requirement already satisfied: ipython in /usr/local/lib/python3.7/dist-packages (from ipython-autotime) (5.5.0)\n",
            "Requirement already satisfied: pickleshare in /usr/local/lib/python3.7/dist-packages (from ipython->ipython-autotime) (0.7.5)\n",
            "Requirement already satisfied: prompt-toolkit<2.0.0,>=1.0.4 in /usr/local/lib/python3.7/dist-packages (from ipython->ipython-autotime) (1.0.18)\n",
            "Requirement already satisfied: setuptools>=18.5 in /usr/local/lib/python3.7/dist-packages (from ipython->ipython-autotime) (57.0.0)\n",
            "Requirement already satisfied: pygments in /usr/local/lib/python3.7/dist-packages (from ipython->ipython-autotime) (2.6.1)\n",
            "Requirement already satisfied: pexpect; sys_platform != \"win32\" in /usr/local/lib/python3.7/dist-packages (from ipython->ipython-autotime) (4.8.0)\n",
            "Requirement already satisfied: decorator in /usr/local/lib/python3.7/dist-packages (from ipython->ipython-autotime) (4.4.2)\n",
            "Requirement already satisfied: simplegeneric>0.8 in /usr/local/lib/python3.7/dist-packages (from ipython->ipython-autotime) (0.8.1)\n",
            "Requirement already satisfied: traitlets>=4.2 in /usr/local/lib/python3.7/dist-packages (from ipython->ipython-autotime) (5.0.5)\n",
            "Requirement already satisfied: wcwidth in /usr/local/lib/python3.7/dist-packages (from prompt-toolkit<2.0.0,>=1.0.4->ipython->ipython-autotime) (0.2.5)\n",
            "Requirement already satisfied: six>=1.9.0 in /usr/local/lib/python3.7/dist-packages (from prompt-toolkit<2.0.0,>=1.0.4->ipython->ipython-autotime) (1.15.0)\n",
            "Requirement already satisfied: ptyprocess>=0.5 in /usr/local/lib/python3.7/dist-packages (from pexpect; sys_platform != \"win32\"->ipython->ipython-autotime) (0.7.0)\n",
            "Requirement already satisfied: ipython-genutils in /usr/local/lib/python3.7/dist-packages (from traitlets>=4.2->ipython->ipython-autotime) (0.2.0)\n",
            "time: 190 µs (started: 2021-06-19 15:03:15 +00:00)\n"
          ],
          "name": "stdout"
        }
      ]
    },
    {
      "cell_type": "code",
      "metadata": {
        "colab": {
          "base_uri": "https://localhost:8080/"
        },
        "id": "c6GetIRn4Xva",
        "outputId": "99f82737-3ea9-4aa3-bb99-6d5ec778f28d"
      },
      "source": [
        "!mkdir Images #To create Images Directory"
      ],
      "execution_count": 3,
      "outputs": [
        {
          "output_type": "stream",
          "text": [
            "time: 115 ms (started: 2021-06-19 15:03:33 +00:00)\n"
          ],
          "name": "stdout"
        }
      ]
    },
    {
      "cell_type": "code",
      "metadata": {
        "colab": {
          "base_uri": "https://localhost:8080/"
        },
        "id": "wGXt1I8P4yfP",
        "outputId": "a1e09739-47df-4d8e-b597-6a248ca8307e"
      },
      "source": [
        "from bing_image_downloader import downloader\n",
        "downloader.download(\"Most Beautiful Sunflowers\",limit=50,output_dir='Images',adult_filter_off=True)"
      ],
      "execution_count": 13,
      "outputs": [
        {
          "output_type": "stream",
          "text": [
            "[%] Downloading Images to /content/Images/Most Beautiful Sunflowers\n",
            "\n",
            "\n",
            "[!!]Indexing page: 1\n",
            "\n",
            "[%] Indexed 50 Images on Page 1.\n",
            "\n",
            "===============================================\n",
            "\n",
            "[%] Downloading Image #1 from https://i0.wp.com/howlifestyles.com/wp-content/uploads/2020/06/Sunflowers_20200510.jpg?fit=800%2C1000&amp;ssl=1\n",
            "[%] File Downloaded !\n",
            "\n",
            "[%] Downloading Image #2 from https://i.pinimg.com/originals/9e/6e/04/9e6e04079802b4493a41460e705631cb.jpg\n",
            "[%] File Downloaded !\n",
            "\n",
            "[%] Downloading Image #3 from https://i.pinimg.com/originals/a5/9a/9b/a59a9b4d4fb19135afe24aef012d03fb.jpg\n",
            "[%] File Downloaded !\n",
            "\n",
            "[%] Downloading Image #4 from https://i.pinimg.com/originals/91/39/52/913952e8f81e8faa94481bda88e4dfba.jpg\n",
            "[%] File Downloaded !\n",
            "\n",
            "[%] Downloading Image #5 from https://1.bp.blogspot.com/-2uQTpxGpXuA/Wb6rMY5zY_I/AAAAAAAACMs/AYr_qCu8MCELn6u42pakqr7rgrpWpNeSACLcBGAs/s1600/DSCN3507.JPG\n",
            "[%] File Downloaded !\n",
            "\n",
            "[%] Downloading Image #6 from https://cdn.quotesgram.com/img/99/23/1633630398-sunflowerscopy.jpg\n",
            "[%] File Downloaded !\n",
            "\n",
            "[%] Downloading Image #7 from http://4.bp.blogspot.com/-e27Hnkq8tCE/TzbAJeCx8PI/AAAAAAAAAOs/w-yK9yrXAns/s1600/DSC_0760.JPG\n",
            "[%] File Downloaded !\n",
            "\n",
            "[%] Downloading Image #8 from https://cdn.quotesgram.com/small/96/4/164607512-107335-o.jpg\n",
            "[%] File Downloaded !\n",
            "\n",
            "[%] Downloading Image #9 from https://www.ftd.com/blog/wp-content/uploads/2017/07/sunflower-american-giant-720x495.jpg\n",
            "[%] File Downloaded !\n",
            "\n",
            "[%] Downloading Image #10 from https://i.pinimg.com/originals/2a/22/c7/2a22c736ab883972d017f7230593365d.jpg\n",
            "[%] File Downloaded !\n",
            "\n",
            "[%] Downloading Image #11 from https://cdn.quotesgram.com/img/14/39/360263379-243afba722a0546d74cb6c3c4da805e2.jpg\n",
            "[%] File Downloaded !\n",
            "\n",
            "[%] Downloading Image #12 from https://i.pinimg.com/originals/b8/68/3f/b8683face1604d0cfb1967b73263a758.jpg\n",
            "[%] File Downloaded !\n",
            "\n",
            "[%] Downloading Image #13 from https://i.pinimg.com/originals/5f/3f/f2/5f3ff21748256af5b032c2b1de1b42cf.jpg\n",
            "[%] File Downloaded !\n",
            "\n",
            "[%] Downloading Image #14 from https://i.pinimg.com/originals/d7/65/46/d76546d5b416ee2ddfb3957a10c4e32d.jpg\n",
            "[%] File Downloaded !\n",
            "\n",
            "[%] Downloading Image #15 from https://www.ftd.com/blog/wp-content/uploads/2017/07/sunflower-skyscraper-768x528.jpg\n",
            "[%] File Downloaded !\n",
            "\n",
            "[%] Downloading Image #16 from https://i.pinimg.com/originals/8f/70/e2/8f70e2ae4eeff41420d73a8731eb395f.jpg\n",
            "[%] File Downloaded !\n",
            "\n",
            "[%] Downloading Image #17 from https://i.pinimg.com/originals/c3/58/2b/c3582baadf1caaff137104594ec1bcea.jpg\n",
            "[%] File Downloaded !\n",
            "\n",
            "[%] Downloading Image #18 from https://s-media-cache-ak0.pinimg.com/564x/c2/3e/72/c23e729f31dd8849749734ed121ef3eb.jpg\n",
            "[%] File Downloaded !\n",
            "\n",
            "[%] Downloading Image #19 from https://i.pinimg.com/originals/dd/72/f2/dd72f2d3efe802c5f9075e41cec4e61c.jpg\n",
            "[%] File Downloaded !\n",
            "\n",
            "[%] Downloading Image #20 from https://pixfeeds.com/images/flowers/sunflowers/320-506587098-beautiful-sunflower.jpg\n",
            "[%] File Downloaded !\n",
            "\n",
            "[%] Downloading Image #21 from https://i.pinimg.com/originals/01/22/cc/0122cc52c377eba1e4202a754e23205f.jpg\n",
            "[%] File Downloaded !\n",
            "\n",
            "[%] Downloading Image #22 from https://i.pinimg.com/originals/e5/b8/c5/e5b8c52d4493e7b63a1b206bb6d9a9aa.jpg\n",
            "[%] File Downloaded !\n",
            "\n",
            "[%] Downloading Image #23 from https://i.pinimg.com/originals/af/61/4c/af614c9424a33e84698676b7426a5b14.jpg\n",
            "[%] File Downloaded !\n",
            "\n",
            "[%] Downloading Image #24 from https://i.pinimg.com/originals/96/7d/6b/967d6b45c32d51db3fc3089eaa704072.jpg\n",
            "[%] File Downloaded !\n",
            "\n",
            "[%] Downloading Image #25 from https://s-media-cache-ak0.pinimg.com/736x/54/ef/31/54ef31ff74bcf7131a63f013e7da8794.jpg\n",
            "[%] File Downloaded !\n",
            "\n",
            "[%] Downloading Image #26 from https://i.pinimg.com/736x/72/77/70/727770e1586c821fc218731ebb7c4c6a.jpg\n",
            "[%] File Downloaded !\n",
            "\n",
            "[%] Downloading Image #27 from https://i.pinimg.com/originals/e4/18/89/e41889ea576f6fe72f40040a5cb3a1c3.png\n",
            "[%] File Downloaded !\n",
            "\n",
            "[%] Downloading Image #28 from https://s-media-cache-ak0.pinimg.com/736x/02/64/cf/0264cfbe0f0f81a379b657717cbdfebe.jpg\n",
            "[%] File Downloaded !\n",
            "\n",
            "[%] Downloading Image #29 from https://whimsicalwonderlandweddings.com/wp-content/uploads/2016/08/Lucy-David-Wold-Top00037-copy.jpg\n",
            "[%] File Downloaded !\n",
            "\n",
            "[%] Downloading Image #30 from https://i.pinimg.com/originals/e8/54/24/e854248b3ba255126b0671fde7da0975.jpg\n",
            "[%] File Downloaded !\n",
            "\n",
            "[%] Downloading Image #31 from https://i.pinimg.com/originals/75/4b/e2/754be20764b0ce15007bdd109ebc8434.jpg\n",
            "[%] File Downloaded !\n",
            "\n",
            "[%] Downloading Image #32 from https://i.pinimg.com/originals/85/e6/72/85e67242b6d84f356eb50c425b93a483.jpg\n",
            "[%] File Downloaded !\n",
            "\n",
            "[%] Downloading Image #33 from https://i.pinimg.com/originals/95/fd/da/95fddad8fdd62b5228b9837eecdcce65.jpg\n",
            "[%] File Downloaded !\n",
            "\n",
            "[%] Downloading Image #34 from https://i.pinimg.com/originals/fd/89/46/fd89469c5f989df443b041d2125055ca.jpg\n",
            "[%] File Downloaded !\n",
            "\n",
            "[%] Downloading Image #35 from https://i.pinimg.com/originals/33/65/06/3365061756b259a15e764b3cbdd912a8.jpg\n",
            "[%] File Downloaded !\n",
            "\n",
            "[%] Downloading Image #36 from https://i.pinimg.com/originals/2a/c6/cc/2ac6cc587f03e7feb744351e2557b4dd.jpg\n",
            "[%] File Downloaded !\n",
            "\n",
            "[%] Downloading Image #37 from https://s-media-cache-ak0.pinimg.com/originals/8d/8a/38/8d8a384c69dbf32782b0cb2acd1f32b2.jpg\n",
            "[%] File Downloaded !\n",
            "\n",
            "[%] Downloading Image #38 from https://i.pinimg.com/originals/cd/d4/f7/cdd4f7a80de7c1d48dcfed4eea2b1e31.jpg\n",
            "[%] File Downloaded !\n",
            "\n",
            "[%] Downloading Image #39 from https://i.pinimg.com/736x/d2/f6/4b/d2f64bc72dd22f1e0792efe1b1814013.jpg\n",
            "[%] File Downloaded !\n",
            "\n",
            "[%] Downloading Image #40 from https://i.pinimg.com/736x/1a/75/2a/1a752a6bba0e138e21e894d809550784--lady-bugs-pretty-flowers.jpg\n",
            "[%] File Downloaded !\n",
            "\n",
            "[%] Downloading Image #41 from https://i.pinimg.com/474x/15/0c/d5/150cd521ad9f61dd4f93e1e40a639c76--field-of-sunflowers-my-house.jpg\n",
            "[%] File Downloaded !\n",
            "\n",
            "[%] Downloading Image #42 from https://i.pinimg.com/originals/b9/7e/b9/b97eb9a79bbc42e0c45d7ad1356976fb.jpg\n",
            "[%] File Downloaded !\n",
            "\n",
            "[%] Downloading Image #43 from https://i.pinimg.com/originals/20/fd/6d/20fd6d261fee1b3f5bc3c080aa175f5d.jpg\n",
            "[%] File Downloaded !\n",
            "\n",
            "[%] Downloading Image #44 from https://www.ftd.com/blog/wp-content/uploads/2017/07/sunflower-sunforest-mix-768x528.jpg\n",
            "[%] File Downloaded !\n",
            "\n",
            "[%] Downloading Image #45 from https://i.pinimg.com/originals/85/2c/4a/852c4ada0c8f806f56b4c3904c04abcf.jpg\n",
            "[%] File Downloaded !\n",
            "\n",
            "[%] Downloading Image #46 from https://i.pinimg.com/originals/dd/a0/b1/dda0b16865985c4ac232933bd1fcf3ac.png\n",
            "[%] File Downloaded !\n",
            "\n",
            "[%] Downloading Image #47 from https://i.pinimg.com/originals/ac/61/27/ac6127ccbbab043f5ec9d8dc08f7e6f8.jpg\n",
            "[%] File Downloaded !\n",
            "\n",
            "[%] Downloading Image #48 from https://i.pinimg.com/originals/58/61/8f/58618f57bf315352f4c5c311c833bd00.jpg\n",
            "[%] File Downloaded !\n",
            "\n",
            "[%] Downloading Image #49 from https://i0.wp.com/howlifestyles.com/wp-content/uploads/2020/06/Sunflower-Tattoos-2020051011.jpg?fit=825%2C825&amp;ssl=1\n",
            "[%] File Downloaded !\n",
            "\n",
            "[%] Downloading Image #50 from https://i.pinimg.com/originals/bf/ea/7d/bfea7d03092354fda9c48027479c793d.jpg\n",
            "[%] File Downloaded !\n",
            "\n",
            "\n",
            "\n",
            "[%] Done. Downloaded 50 images.\n",
            "===============================================\n",
            "\n",
            "Please show your support here\n",
            "https://www.buymeacoffee.com/gurugaurav\n",
            "\n",
            "===============================================\n",
            "\n",
            "time: 2.16 s (started: 2021-06-19 15:24:45 +00:00)\n"
          ],
          "name": "stdout"
        }
      ]
    },
    {
      "cell_type": "code",
      "metadata": {
        "colab": {
          "base_uri": "https://localhost:8080/"
        },
        "id": "OAwUYRsb6BWg",
        "outputId": "835f2115-b077-454b-ea0c-76aca501bbc5"
      },
      "source": [
        "from bing_image_downloader import downloader\n",
        "downloader.download(\"dog images\",limit=1,output_dir='Images',adult_filter_off=True)"
      ],
      "execution_count": null,
      "outputs": [
        {
          "output_type": "stream",
          "text": [
            "[%] Downloading Images to /content/images/dog images\n",
            "\n",
            "\n",
            "[!!]Indexing page: 1\n",
            "\n",
            "[%] Indexed 1 Images on Page 1.\n",
            "\n",
            "===============================================\n",
            "\n",
            "[%] Downloading Image #1 from https://cdn.releases.com/img/image/0216cbbd-73dd-41d1-b6c6-5be0f419b832.jpg/1000\n",
            "[%] File Downloaded !\n",
            "\n",
            "\n",
            "\n",
            "[%] Done. Downloaded 1 images.\n",
            "===============================================\n",
            "\n",
            "Please show your support here\n",
            "https://www.buymeacoffee.com/gurugaurav\n",
            "\n",
            "===============================================\n",
            "\n",
            "time: 2.84 s (started: 2021-06-19 14:51:32 +00:00)\n"
          ],
          "name": "stdout"
        }
      ]
    },
    {
      "cell_type": "code",
      "metadata": {
        "colab": {
          "base_uri": "https://localhost:8080/"
        },
        "id": "RUQ6f6Sm8Gya",
        "outputId": "4c16dd1e-15cf-4006-8fbd-75f5c973ac8c"
      },
      "source": [
        "downloader.download(\"Good Cars jpg\",limit=50,output_dir='images',adult_filter_off=True)"
      ],
      "execution_count": 26,
      "outputs": [
        {
          "output_type": "stream",
          "text": [
            "[%] Downloading Images to /content/images/Good Cars jpg\n",
            "\n",
            "\n",
            "[!!]Indexing page: 1\n",
            "\n",
            "[%] Indexed 50 Images on Page 1.\n",
            "\n",
            "===============================================\n",
            "\n",
            "[%] Downloading Image #1 from https://cdn.shopify.com/s/files/1/0410/1973/6226/products/good-wine-and-true-crime-sublimation-transfers-heat-transfer-296_grande.jpg?v=1624073272\n",
            "[%] File Downloaded !\n",
            "\n",
            "[%] Downloading Image #2 from https://www.sportscarmarket.com/wp-content/uploads/2021/06/2108-affordable-classic-1992-toyota-supra-.jpg\n",
            "[%] File Downloaded !\n",
            "\n",
            "[%] Downloading Image #3 from https://media.khou.com/assets/WFMY/images/3020de2b-7614-4fe3-b2d4-cf0246eb2f7b/3020de2b-7614-4fe3-b2d4-cf0246eb2f7b_1140x641.jpg\n",
            "[%] File Downloaded !\n",
            "\n",
            "[%] Downloading Image #4 from https://i.ebayimg.com/00/s/NzY4WDEwMjQ=/z/eRMAAOSwR55gzFEw/$_27.JPG\n",
            "[%] File Downloaded !\n",
            "\n",
            "[%] Downloading Image #5 from https://www.cash-for-junk-cars.services/wp-content/uploads/2020/11/fire-department-1246851_1280.jpg\n",
            "[%] File Downloaded !\n",
            "\n",
            "[%] Downloading Image #6 from https://www.thetruthaboutcars.com/wp-content/uploads/2021/06/modelsplaid-1.jpg\n",
            "[%] File Downloaded !\n",
            "\n",
            "[%] Downloading Image #7 from https://static.cargurus.com/images/forsale/2021/05/22/03/57/2015_lincoln_navigator-pic-1696728256029381536-1024x768.jpeg?io=true&amp;width=640&amp;height=480&amp;fit=bounds&amp;format=jpg&amp;auto=webp\n",
            "[%] File Downloaded !\n",
            "\n",
            "[%] Downloading Image #8 from https://i.ebayimg.com/images/g/2HsAAOSwW~xgs42I/s-l400.jpg\n",
            "[%] File Downloaded !\n",
            "\n",
            "[%] Downloading Image #9 from https://static.cargurus.com/images/forsale/2021/05/08/20/24/2006_dodge_ram_3500-pic-4397671991176993337-1024x768.jpeg?io=true&amp;width=640&amp;height=480&amp;fit=bounds&amp;format=jpg&amp;auto=webp\n",
            "[%] File Downloaded !\n",
            "\n",
            "[%] Downloading Image #10 from https://static.cargurus.com/images/forsale/2021/05/12/05/51/2010_toyota_corolla-pic-186274376088171374-1024x768.jpeg?io=true&amp;width=640&amp;height=480&amp;fit=bounds&amp;format=jpg&amp;auto=webp\n",
            "[%] File Downloaded !\n",
            "\n",
            "[%] Downloading Image #11 from https://s3-eu-west-1.amazonaws.com/eurekar-v2/uploads/images/original/x5frontact.jpg\n",
            "[%] File Downloaded !\n",
            "\n",
            "[%] Downloading Image #12 from https://static.cargurus.com/images/forsale/2020/11/25/07/50/2010_toyota_corolla-pic-7846089685610398737-1024x768.jpeg?io=true&amp;width=640&amp;height=480&amp;fit=bounds&amp;format=jpg&amp;auto=webp\n",
            "[%] File Downloaded !\n",
            "\n",
            "[%] Downloading Image #13 from https://static.cargurus.com/images/forsale/2021/05/27/01/11/2015_ram_3500-pic-2447425720861356080-1024x768.jpeg?io=true&amp;width=640&amp;height=480&amp;fit=bounds&amp;format=jpg&amp;auto=webp\n",
            "[%] File Downloaded !\n",
            "\n",
            "[%] Downloading Image #14 from https://www.thetruthaboutcars.com/wp-content/uploads/2021/06/modelsplaid-1-450x300.jpg\n",
            "[%] File Downloaded !\n",
            "\n",
            "[%] Downloading Image #15 from https://external-preview.redd.it/gwXcCsdeIH6HsUEOaySsuIMzkPxb_PTakEIuh6Du4io.jpg?auto=webp&amp;s=25f2f8b636bf163fc2ee2a5f2718f267264b73fc\n",
            "[!] Issue getting: https://external-preview.redd.it/gwXcCsdeIH6HsUEOaySsuIMzkPxb_PTakEIuh6Du4io.jpg?auto=webp&amp;s=25f2f8b636bf163fc2ee2a5f2718f267264b73fc\n",
            "[!] Error:: HTTP Error 403: Forbidden\n",
            "[%] Downloading Image #15 from https://i.ebayimg.com/images/g/0bUAAOSwa0lgw1GH/s-l64.jpg\n",
            "[%] File Downloaded !\n",
            "\n",
            "[%] Downloading Image #16 from https://i.ebayimg.com/images/g/9vQAAOSwwcZgw1GI/s-l64.jpg\n",
            "[%] File Downloaded !\n",
            "\n",
            "[%] Downloading Image #17 from https://static.cargurus.com/images/forsale/2021/03/13/06/24/2020_chrysler_300-pic-2343063344111270582-1024x768.jpeg?io=true&amp;width=640&amp;height=480&amp;fit=bounds&amp;format=jpg&amp;auto=webp\n",
            "[%] File Downloaded !\n",
            "\n",
            "[%] Downloading Image #18 from https://ewscripps.brightspotcdn.com/dims4/default/bb5b23e/2147483647/strip/true/crop/3456x1814+0+245/resize/1200x630!/quality/90/?url=http:%2F%2Fewscripps-brightspot.s3.amazonaws.com%2F2e%2F79%2F0bac6e1c46f1878c82b38b12a2f2%2Fcop-car-with-logo.JPG\n",
            "[%] File Downloaded !\n",
            "\n",
            "[%] Downloading Image #19 from https://ewscripps.brightspotcdn.com/dims4/default/2ded4cc/2147483647/strip/true/crop/640x336+0+118/resize/1200x630!/quality/90/?url=https:%2F%2Fmediaassets.thedenverchannel.com%2Fphoto%2F2014%2F08%2F12%2FLarimerCountySheriffCar_1407876516024_7348257_ver1.0_640_480.jpg\n",
            "[%] File Downloaded !\n",
            "\n",
            "[%] Downloading Image #20 from https://ic-cdn.flipboard.com/cars.com/8962d1e652028d127ec88f865fe1185927373cf3/_large.jpeg\n",
            "[%] File Downloaded !\n",
            "\n",
            "[%] Downloading Image #21 from https://www.kildarenow.com/resizer/835/603/true/1623771161141.jpg--criminal_assets_bureau_seize_car__cash_and_luxury_goods_in_raids_in_louth__dublin__meath_and_wexford.jpg?1623771161000\n",
            "[%] File Downloaded !\n",
            "\n",
            "[%] Downloading Image #22 from https://electrodealpro.com/wp-content/uploads/2021/06/e09a4fd8c45a85acdca4b76a5283af15.jpg\n",
            "[%] File Downloaded !\n",
            "\n",
            "[%] Downloading Image #23 from https://diyboo.oss-accelerate.aliyuncs.com/wp-content/uploads/2021/06/2c57767d-67bc-3e23-b73a-95a425e4d6df.jpg\n",
            "[%] File Downloaded !\n",
            "\n",
            "[%] Downloading Image #24 from https://diyboo.oss-accelerate.aliyuncs.com/wp-content/uploads/2021/06/48a13a13-516b-360c-a3c9-2d73770d9649.jpg\n",
            "[%] File Downloaded !\n",
            "\n",
            "[%] Downloading Image #25 from https://diyboo.oss-accelerate.aliyuncs.com/wp-content/uploads/2021/06/bbbd0120-8bc7-3bc4-8706-6ee1b08ff6ae.jpg\n",
            "[%] File Downloaded !\n",
            "\n",
            "[%] Downloading Image #26 from https://diyboo.oss-accelerate.aliyuncs.com/wp-content/uploads/2021/06/ff587397-f904-3a47-b6b5-82f3485d741a.jpg\n",
            "[%] File Downloaded !\n",
            "\n",
            "[%] Downloading Image #27 from https://i.ebayimg.com/images/g/mgkAAOSwoHhgw1GH/s-l64.jpg\n",
            "[%] File Downloaded !\n",
            "\n",
            "[%] Downloading Image #28 from https://cdn.cnn.com/cnnnext/dam/assets/210617092746-best-true-wireless-earbuds-lead-june-2021-super-169.jpg\n",
            "[%] File Downloaded !\n",
            "\n",
            "[%] Downloading Image #29 from https://i.redd.it/4tk8lvnvw6671.jpg\n",
            "[%] File Downloaded !\n",
            "\n",
            "[%] Downloading Image #30 from https://www.clickondetroit.com/resizer/fYTNILRVmELe9k49DhdyX30-NRg=/800x533/smart/filters:format(jpeg):strip_exif(true):strip_icc(true):no_upscale(true):quality(65):fill(FFF)/cloudfront-us-east-1.images.arcpublishing.com/gmg/IPIICKVDJZAOPFBZ74YZH72CRM.jpg\n",
            "[%] File Downloaded !\n",
            "\n",
            "[%] Downloading Image #31 from https://ogrforum.ogaugerr.com/fileSendAction/fcType/0/fcOid/155716354614801409/filePointer/155716354614801441/fodoid/155716354614801433/imageType/LARGE/inlineImage/true/IMG_8088.JPEG\n",
            "[%] File Downloaded !\n",
            "\n",
            "[%] Downloading Image #32 from https://live.staticflickr.com/7037/7146285719_4f8b44054f.jpg\n",
            "[Error]Invalid image, not saving https://live.staticflickr.com/7037/7146285719_4f8b44054f.jpg\n",
            "\n",
            "[!] Issue getting: https://live.staticflickr.com/7037/7146285719_4f8b44054f.jpg\n",
            "[!] Error:: Invalid image, not saving https://live.staticflickr.com/7037/7146285719_4f8b44054f.jpg\n",
            "\n",
            "[%] Downloading Image #32 from https://www.wisefamousquotes.com/images/car-bumper-sticker-quotes-by-samuel-pepys-1174056.jpg\n",
            "[%] File Downloaded !\n",
            "\n",
            "[%] Downloading Image #33 from https://hips.hearstapps.com/hmg-prod.s3.amazonaws.com/images/dyer-y2k-bug-1623786746.jpg?crop=0.766xw:0.511xh;0.114xw,0.244xh&amp;resize=1200:*\n",
            "[%] File Downloaded !\n",
            "\n",
            "[%] Downloading Image #34 from https://www.leinsterleader.ie/resizer/835/603/true/1623835654961.jpg--criminal_assets_bureau_seize_car__cash_and_luxury_goods_in_raids_in_louth__dublin__meath_and_wexford.jpg?1623835654000\n",
            "[%] File Downloaded !\n",
            "\n",
            "[%] Downloading Image #35 from https://media.khou.com/assets/WFMY/images/6cf0f95d-0309-44d5-bbec-e03984b5d4d4/6cf0f95d-0309-44d5-bbec-e03984b5d4d4_1920x1080.jpg\n",
            "[%] File Downloaded !\n",
            "\n",
            "[%] Downloading Image #36 from https://gumlet.assettype.com/bloombergquint/2019-11/9f1c03cc-2ce3-414d-8e98-e8967841d97a/307301077.jpg?rect=0,397,3998,2099&amp;w=1200&amp;auto=format,compress&amp;ogImage=true\n",
            "[Error]Invalid image, not saving https://gumlet.assettype.com/bloombergquint/2019-11/9f1c03cc-2ce3-414d-8e98-e8967841d97a/307301077.jpg?rect=0,397,3998,2099&amp;w=1200&amp;auto=format,compress&amp;ogImage=true\n",
            "\n",
            "[!] Issue getting: https://gumlet.assettype.com/bloombergquint/2019-11/9f1c03cc-2ce3-414d-8e98-e8967841d97a/307301077.jpg?rect=0,397,3998,2099&amp;w=1200&amp;auto=format,compress&amp;ogImage=true\n",
            "[!] Error:: Invalid image, not saving https://gumlet.assettype.com/bloombergquint/2019-11/9f1c03cc-2ce3-414d-8e98-e8967841d97a/307301077.jpg?rect=0,397,3998,2099&amp;w=1200&amp;auto=format,compress&amp;ogImage=true\n",
            "\n",
            "[%] Downloading Image #36 from https://img-2.homely.com.au/S3/l-Eagle-7759724-1.jpg?enlarge=true&amp;format=jpeg&amp;height=934&amp;quality=60&amp;query=versionId%3DdT1YGeqcPCeVPrkWUztOysIdELDUbIVW&amp;resizeType=cover&amp;width=1400\n",
            "[Error]Invalid image, not saving https://img-2.homely.com.au/S3/l-Eagle-7759724-1.jpg?enlarge=true&amp;format=jpeg&amp;height=934&amp;quality=60&amp;query=versionId%3DdT1YGeqcPCeVPrkWUztOysIdELDUbIVW&amp;resizeType=cover&amp;width=1400\n",
            "\n",
            "[!] Issue getting: https://img-2.homely.com.au/S3/l-Eagle-7759724-1.jpg?enlarge=true&amp;format=jpeg&amp;height=934&amp;quality=60&amp;query=versionId%3DdT1YGeqcPCeVPrkWUztOysIdELDUbIVW&amp;resizeType=cover&amp;width=1400\n",
            "[!] Error:: Invalid image, not saving https://img-2.homely.com.au/S3/l-Eagle-7759724-1.jpg?enlarge=true&amp;format=jpeg&amp;height=934&amp;quality=60&amp;query=versionId%3DdT1YGeqcPCeVPrkWUztOysIdELDUbIVW&amp;resizeType=cover&amp;width=1400\n",
            "\n",
            "[%] Downloading Image #36 from https://metro.co.uk/wp-content/uploads/2021/03/PRI_188780430_1617228478.jpg?quality=90&amp;strip=all&amp;w=1200&amp;h=630&amp;crop=1\n",
            "[%] File Downloaded !\n",
            "\n",
            "[%] Downloading Image #37 from https://metro.co.uk/wp-content/uploads/2021/03/PRI_188780430.jpg?quality=90&amp;strip=all&amp;zoom=1&amp;resize=644%2C362\n",
            "[%] File Downloaded !\n",
            "\n",
            "[%] Downloading Image #38 from https://i.redd.it/vpl730oo5y571.jpg\n",
            "[%] File Downloaded !\n",
            "\n",
            "[%] Downloading Image #39 from https://www.limerickleader.ie/resizer/835/603/true/1624029348026.jpg--deer_killed_and_car_badly_damaged_in_limerick_collision.jpg?1624029349000\n",
            "[%] File Downloaded !\n",
            "\n",
            "[%] Downloading Image #40 from https://preview.redd.it/vpl730oo5y571.jpg?width=640&amp;crop=smart&amp;auto=webp&amp;s=ae6d227b921ea50616e543668381643eb3d30be7\n",
            "[!] Issue getting: https://preview.redd.it/vpl730oo5y571.jpg?width=640&amp;crop=smart&amp;auto=webp&amp;s=ae6d227b921ea50616e543668381643eb3d30be7\n",
            "[!] Error:: HTTP Error 403: Forbidden\n",
            "[%] Downloading Image #40 from https://i.ebayimg.com/images/g/b5oAAOSwgcVa-fj0/s-l400.jpg\n",
            "[%] File Downloaded !\n",
            "\n",
            "[%] Downloading Image #41 from https://i.ebayimg.com/images/i/123729199185-0-1/s-l1000.jpg\n",
            "[%] File Downloaded !\n",
            "\n",
            "[%] Downloading Image #42 from https://i.ebayimg.com/images/i/162347610903-0-1/s-l1000.jpg\n",
            "[%] File Downloaded !\n",
            "\n",
            "[%] Downloading Image #43 from https://i.ebayimg.com/images/g/onoAAOSwYIhWiabc/s-l400.jpg\n",
            "[%] File Downloaded !\n",
            "\n",
            "[%] Downloading Image #44 from https://i.ebayimg.com/images/i/320969120195-0-1/s-l1000.jpg\n",
            "[%] File Downloaded !\n",
            "\n",
            "[%] Downloading Image #45 from https://i.ebayimg.com/images/i/201867202886-0-1/s-l1000.jpg\n",
            "[%] File Downloaded !\n",
            "\n",
            "\n",
            "\n",
            "[!!]Indexing page: 2\n",
            "\n",
            "[%] Indexed 35 Images on Page 2.\n",
            "\n",
            "===============================================\n",
            "\n",
            "[%] Downloading Image #46 from https://cdn.shopify.com/s/files/1/0410/1973/6226/products/good-wine-and-true-crime-sublimation-transfers-heat-transfer-296_grande.jpg?v=1624073272\n",
            "[%] File Downloaded !\n",
            "\n",
            "[%] Downloading Image #47 from https://media.khou.com/assets/WFMY/images/3020de2b-7614-4fe3-b2d4-cf0246eb2f7b/3020de2b-7614-4fe3-b2d4-cf0246eb2f7b_1140x641.jpg\n",
            "[%] File Downloaded !\n",
            "\n",
            "[%] Downloading Image #48 from https://www.sportscarmarket.com/wp-content/uploads/2021/06/2108-affordable-classic-1992-toyota-supra-.jpg\n",
            "[%] File Downloaded !\n",
            "\n",
            "[%] Downloading Image #49 from https://i.ebayimg.com/00/s/NzY4WDEwMjQ=/z/eRMAAOSwR55gzFEw/$_27.JPG\n",
            "[%] File Downloaded !\n",
            "\n",
            "[%] Downloading Image #50 from https://www.cash-for-junk-cars.services/wp-content/uploads/2020/11/fire-department-1246851_1280.jpg\n",
            "[%] File Downloaded !\n",
            "\n",
            "\n",
            "\n",
            "[%] Done. Downloaded 50 images.\n",
            "===============================================\n",
            "\n",
            "Please show your support here\n",
            "https://www.buymeacoffee.com/gurugaurav\n",
            "\n",
            "===============================================\n",
            "\n",
            "time: 12.1 s (started: 2021-06-19 15:33:35 +00:00)\n"
          ],
          "name": "stdout"
        }
      ]
    },
    {
      "cell_type": "markdown",
      "metadata": {
        "id": "NZ3kOsSayqjs"
      },
      "source": [
        "**Preprocessing of Data**\n",
        "1. Resizing\n",
        "2. Flatenning"
      ]
    },
    {
      "cell_type": "code",
      "metadata": {
        "id": "POF7uYOs4TEU"
      },
      "source": [
        ""
      ],
      "execution_count": null,
      "outputs": []
    },
    {
      "cell_type": "code",
      "metadata": {
        "colab": {
          "base_uri": "https://localhost:8080/"
        },
        "id": "PJZpM0Oy9u-s",
        "outputId": "7ddd93bf-cb9e-4239-a5cd-fb177e3003d0"
      },
      "source": [
        "import os\n",
        "import matplotlib.pyplot as plt\n",
        "import numpy as np\n",
        "from skimage.io import imread\n",
        "from skimage.transform import resize\n",
        "\n",
        "target=[]\n",
        "images=[]  #2d n we cant pass it\n",
        "flat_data=[]\n",
        "\n",
        "DATADIR ='/content/images'\n",
        "CATEGORY= ['Most Beautiful Sunflowers','Good Cars jpg']\n",
        "\n",
        "for category in CATEGORY:\n",
        "  class_num=CATEGORY.index(category) #Label Encoding of value\n",
        "  path=os.path.join(DATADIR,category) #Path Creation\n",
        "  for img in os.listdir(path):\n",
        "    img_array=imread(os.path.join(path,img))\n",
        "    img_resized=resize(img_array,(150,150,3)) #Normalizes the value from 0 to 1\n",
        "    flat_data.append(img_resized.flatten())\n",
        "    images.append(img_resized)\n",
        "    target.append(class_num)\n",
        "flat_data=np.array(flat_data)\n",
        "target=np.array(target)\n",
        "images=np.array(Images)    "
      ],
      "execution_count": 28,
      "outputs": [
        {
          "output_type": "stream",
          "text": [
            "time: 13.1 s (started: 2021-06-19 15:34:37 +00:00)\n"
          ],
          "name": "stdout"
        }
      ]
    },
    {
      "cell_type": "code",
      "metadata": {
        "colab": {
          "base_uri": "https://localhost:8080/"
        },
        "id": "ymsskU43BnMN",
        "outputId": "b7a852ce-ad62-4a94-b038-02964ec7597f"
      },
      "source": [
        "flat_data[0]"
      ],
      "execution_count": 29,
      "outputs": [
        {
          "output_type": "execute_result",
          "data": {
            "text/plain": [
              "array([0., 0., 0., ..., 0., 0., 0.])"
            ]
          },
          "metadata": {
            "tags": []
          },
          "execution_count": 29
        },
        {
          "output_type": "stream",
          "text": [
            "time: 6.1 ms (started: 2021-06-19 15:34:54 +00:00)\n"
          ],
          "name": "stdout"
        }
      ]
    },
    {
      "cell_type": "code",
      "metadata": {
        "colab": {
          "base_uri": "https://localhost:8080/"
        },
        "id": "bVtArhJGRNzl",
        "outputId": "af66b2cc-7630-4e40-a261-16b61ea0c44e"
      },
      "source": [
        "target"
      ],
      "execution_count": 30,
      "outputs": [
        {
          "output_type": "execute_result",
          "data": {
            "text/plain": [
              "array([0, 0, 0, 0, 0, 0, 0, 0, 0, 0, 0, 0, 0, 0, 0, 0, 0, 0, 0, 0, 0, 0,\n",
              "       0, 0, 0, 0, 0, 0, 0, 0, 0, 0, 0, 0, 0, 0, 0, 0, 0, 0, 0, 0, 0, 0,\n",
              "       0, 0, 0, 0, 0, 0, 1, 1, 1, 1, 1, 1, 1, 1, 1, 1, 1, 1, 1, 1, 1, 1,\n",
              "       1, 1, 1, 1, 1, 1, 1, 1, 1, 1, 1, 1, 1, 1, 1, 1, 1, 1, 1, 1, 1, 1,\n",
              "       1, 1, 1, 1, 1, 1, 1, 1, 1, 1, 1, 1])"
            ]
          },
          "metadata": {
            "tags": []
          },
          "execution_count": 30
        },
        {
          "output_type": "stream",
          "text": [
            "time: 4.27 ms (started: 2021-06-19 15:34:56 +00:00)\n"
          ],
          "name": "stdout"
        }
      ]
    },
    {
      "cell_type": "code",
      "metadata": {
        "colab": {
          "base_uri": "https://localhost:8080/",
          "height": 298
        },
        "id": "kRv4PB3VRa0F",
        "outputId": "c830cfb4-5a4c-4104-fda7-8c978e40252c"
      },
      "source": [
        "unique,count=np.unique(target,return_counts=True)\n",
        "plt.bar(CATEGORY,count)"
      ],
      "execution_count": 31,
      "outputs": [
        {
          "output_type": "execute_result",
          "data": {
            "text/plain": [
              "<BarContainer object of 2 artists>"
            ]
          },
          "metadata": {
            "tags": []
          },
          "execution_count": 31
        },
        {
          "output_type": "display_data",
          "data": {
            "image/png": "[encoded data removed]",
            "text/plain": [
              "<Figure size 432x288 with 1 Axes>"
            ]
          },
          "metadata": {
            "tags": [],
            "needs_background": "light"
          }
        },
        {
          "output_type": "stream",
          "text": [
            "time: 132 ms (started: 2021-06-19 15:34:58 +00:00)\n"
          ],
          "name": "stdout"
        }
      ]
    },
    {
      "cell_type": "code",
      "metadata": {
        "id": "uyDQZwRpR30i",
        "colab": {
          "base_uri": "https://localhost:8080/",
          "height": 128
        },
        "outputId": "80956f40-27bc-4d4b-da45-384ac42f7952"
      },
      "source": [
        "#Spliting of Data into Training and Testing"
      ],
      "execution_count": 19,
      "outputs": [
        {
          "output_type": "error",
          "ename": "SyntaxError",
          "evalue": "ignored",
          "traceback": [
            "\u001b[0;36m  File \u001b[0;32m\"<ipython-input-19-44e2867a192f>\"\u001b[0;36m, line \u001b[0;32m1\u001b[0m\n\u001b[0;31m    Spliting of Data into Training and Testing\u001b[0m\n\u001b[0m              ^\u001b[0m\n\u001b[0;31mSyntaxError\u001b[0m\u001b[0;31m:\u001b[0m invalid syntax\n"
          ]
        }
      ]
    },
    {
      "cell_type": "code",
      "metadata": {
        "colab": {
          "base_uri": "https://localhost:8080/"
        },
        "id": "DTmsF-bFR-vl",
        "outputId": "eb3b0720-e5ba-4f55-fba7-8b553d5367f6"
      },
      "source": [
        "from sklearn.model_selection import train_test_split\n",
        "x_train, x_test, y_train, y_test = train_test_split(flat_data,target,test_size=0.3,random_state=109)"
      ],
      "execution_count": 32,
      "outputs": [
        {
          "output_type": "stream",
          "text": [
            "time: 15.1 ms (started: 2021-06-19 15:35:02 +00:00)\n"
          ],
          "name": "stdout"
        }
      ]
    },
    {
      "cell_type": "code",
      "metadata": {
        "colab": {
          "base_uri": "https://localhost:8080/"
        },
        "id": "rAPgtrA_Sk-0",
        "outputId": "5b0ba8f2-d730-43b3-ce6f-4a70984c65fc"
      },
      "source": [
        "from sklearn.model_selection import GridSearchCV\n",
        "from sklearn import svm\n",
        "param_grid=[\n",
        "            {'C':[1,10,100,1000],'kernel':['linear']},\n",
        "            {'C':[1,10,100,1000],'gamma':[0.001,0.0001],'kernel':['rbf']},\n",
        "            \n",
        "]\n",
        "svc=svm.SVC(probability=True)\n",
        "clf=GridSearchCV(svc,param_grid)\n",
        "clf.fit(x_train,y_train)"
      ],
      "execution_count": 33,
      "outputs": [
        {
          "output_type": "execute_result",
          "data": {
            "text/plain": [
              "GridSearchCV(cv=None, error_score=nan,\n",
              "             estimator=SVC(C=1.0, break_ties=False, cache_size=200,\n",
              "                           class_weight=None, coef0=0.0,\n",
              "                           decision_function_shape='ovr', degree=3,\n",
              "                           gamma='scale', kernel='rbf', max_iter=-1,\n",
              "                           probability=True, random_state=None, shrinking=True,\n",
              "                           tol=0.001, verbose=False),\n",
              "             iid='deprecated', n_jobs=None,\n",
              "             param_grid=[{'C': [1, 10, 100, 1000], 'kernel': ['linear']},\n",
              "                         {'C': [1, 10, 100, 1000], 'gamma': [0.001, 0.0001],\n",
              "                          'kernel': ['rbf']}],\n",
              "             pre_dispatch='2*n_jobs', refit=True, return_train_score=False,\n",
              "             scoring=None, verbose=0)"
            ]
          },
          "metadata": {
            "tags": []
          },
          "execution_count": 33
        },
        {
          "output_type": "stream",
          "text": [
            "time: 1min 18s (started: 2021-06-19 15:35:06 +00:00)\n"
          ],
          "name": "stdout"
        }
      ]
    },
    {
      "cell_type": "code",
      "metadata": {
        "colab": {
          "base_uri": "https://localhost:8080/"
        },
        "id": "daWjUD30S6w1",
        "outputId": "d19cbc42-094d-4242-97d7-e4f67c9d0384"
      },
      "source": [
        "y_pred=clf.predict(x_test)\n",
        "y_pred"
      ],
      "execution_count": 34,
      "outputs": [
        {
          "output_type": "execute_result",
          "data": {
            "text/plain": [
              "array([1, 1, 0, 1, 1, 1, 0, 0, 0, 1, 1, 0, 0, 1, 1, 1, 0, 0, 1, 1, 0, 0,\n",
              "       1, 1, 0, 0, 1, 0, 1, 1])"
            ]
          },
          "metadata": {
            "tags": []
          },
          "execution_count": 34
        },
        {
          "output_type": "stream",
          "text": [
            "time: 142 ms (started: 2021-06-19 15:37:18 +00:00)\n"
          ],
          "name": "stdout"
        }
      ]
    },
    {
      "cell_type": "code",
      "metadata": {
        "colab": {
          "base_uri": "https://localhost:8080/"
        },
        "id": "NAHO3ekmVIrn",
        "outputId": "3538ac88-af12-4e02-811b-d70cd10189da"
      },
      "source": [
        "y_test"
      ],
      "execution_count": 35,
      "outputs": [
        {
          "output_type": "execute_result",
          "data": {
            "text/plain": [
              "array([1, 1, 1, 1, 1, 1, 1, 0, 0, 1, 1, 0, 0, 1, 1, 1, 0, 0, 1, 0, 0, 0,\n",
              "       1, 1, 0, 0, 1, 0, 0, 1])"
            ]
          },
          "metadata": {
            "tags": []
          },
          "execution_count": 35
        },
        {
          "output_type": "stream",
          "text": [
            "time: 3.66 ms (started: 2021-06-19 15:37:23 +00:00)\n"
          ],
          "name": "stdout"
        }
      ]
    },
    {
      "cell_type": "code",
      "metadata": {
        "colab": {
          "base_uri": "https://localhost:8080/"
        },
        "id": "zKcXhxeHXEX-",
        "outputId": "64dfc36c-fb1c-460e-f927-13e1a228545e"
      },
      "source": [
        "from sklearn.metrics import accuracy_score,confusion_matrix"
      ],
      "execution_count": 36,
      "outputs": [
        {
          "output_type": "stream",
          "text": [
            "time: 1.66 ms (started: 2021-06-19 15:37:26 +00:00)\n"
          ],
          "name": "stdout"
        }
      ]
    },
    {
      "cell_type": "code",
      "metadata": {
        "colab": {
          "base_uri": "https://localhost:8080/"
        },
        "id": "qovhfbynXL5M",
        "outputId": "7b8535be-950d-4b17-e72a-5e16be0d0cb1"
      },
      "source": [
        "accuracy_score(y_pred,y_test)"
      ],
      "execution_count": 37,
      "outputs": [
        {
          "output_type": "execute_result",
          "data": {
            "text/plain": [
              "0.8666666666666667"
            ]
          },
          "metadata": {
            "tags": []
          },
          "execution_count": 37
        },
        {
          "output_type": "stream",
          "text": [
            "time: 3.93 ms (started: 2021-06-19 15:37:30 +00:00)\n"
          ],
          "name": "stdout"
        }
      ]
    },
    {
      "cell_type": "code",
      "metadata": {
        "colab": {
          "base_uri": "https://localhost:8080/"
        },
        "id": "JswydRhzpSMT",
        "outputId": "60f5644b-b608-4b64-fa4c-bbce03f1f4ed"
      },
      "source": [
        "confusion_matrix(y_pred,y_test)"
      ],
      "execution_count": 38,
      "outputs": [
        {
          "output_type": "execute_result",
          "data": {
            "text/plain": [
              "array([[11,  2],\n",
              "       [ 2, 15]])"
            ]
          },
          "metadata": {
            "tags": []
          },
          "execution_count": 38
        },
        {
          "output_type": "stream",
          "text": [
            "time: 4.98 ms (started: 2021-06-19 15:37:35 +00:00)\n"
          ],
          "name": "stdout"
        }
      ]
    },
    {
      "cell_type": "markdown",
      "metadata": {
        "id": "wYmJAzL7pcmu"
      },
      "source": [
        "Saving the model using Pickle Library"
      ]
    },
    {
      "cell_type": "code",
      "metadata": {
        "colab": {
          "base_uri": "https://localhost:8080/"
        },
        "id": "OdYcJOomqZqW",
        "outputId": "44dcfdb2-d81d-4c1c-8307-e1c691e764f4"
      },
      "source": [
        "import pickle\n",
        "pickle.dump(clf,open('img_model.p','wb'))\n"
      ],
      "execution_count": 53,
      "outputs": [
        {
          "output_type": "stream",
          "text": [
            "time: 32.8 ms (started: 2021-06-19 15:53:55 +00:00)\n"
          ],
          "name": "stdout"
        }
      ]
    },
    {
      "cell_type": "code",
      "metadata": {
        "colab": {
          "base_uri": "https://localhost:8080/"
        },
        "id": "1Mjl_5hi0oCH",
        "outputId": "3595f017-41a9-4cb6-a5f3-1d3688f44262"
      },
      "source": [
        "model=pickle.load(open('img_model.p','rb'))"
      ],
      "execution_count": 54,
      "outputs": [
        {
          "output_type": "stream",
          "text": [
            "time: 14 ms (started: 2021-06-19 15:53:57 +00:00)\n"
          ],
          "name": "stdout"
        }
      ]
    },
    {
      "cell_type": "code",
      "metadata": {
        "id": "6C7i1D3Eqk9K",
        "colab": {
          "base_uri": "https://localhost:8080/",
          "height": 356
        },
        "outputId": "565b458d-82d8-4656-f06d-fafece77fd13"
      },
      "source": [
        "#testing a image\n",
        "flat_data=[]\n",
        "url=input('Enter URL')\n",
        "img=imread(url)\n",
        "img_resized=resize(img,(150,150,3))\n",
        "flat_data.append(img_resized.flatten())\n",
        "flat_data = np.array(flat_data)\n",
        "print(img.shape)\n",
        "plt.imshow(img_resized)\n",
        "y_out=model.predict(flat_data)\n",
        "y_out=CATEGORY[y_out[0]]\n",
        "print(f'Predicted op:{y_out}')\n"
      ],
      "execution_count": 41,
      "outputs": [
        {
          "output_type": "stream",
          "text": [
            "Enter URLhttps://upload.wikimedia.org/wikipedia/commons/thumb/4/40/Sunflower_sky_backdrop.jpg/1200px-Sunflower_sky_backdrop.jpg\n",
            "(1329, 1200, 3)\n",
            "Predicted op:Most Beautiful Sunflowers\n"
          ],
          "name": "stdout"
        },
        {
          "output_type": "display_data",
          "data": {
            "image/png": "[encoded data removed]",
            "text/plain": [
              "<Figure size 432x288 with 1 Axes>"
            ]
          },
          "metadata": {
            "tags": [],
            "needs_background": "light"
          }
        },
        {
          "output_type": "stream",
          "text": [
            "time: 12.3 s (started: 2021-06-19 15:37:43 +00:00)\n"
          ],
          "name": "stdout"
        }
      ]
    },
    {
      "cell_type": "code",
      "metadata": {
        "colab": {
          "base_uri": "https://localhost:8080/"
        },
        "id": "GGQxdsnz2TQp",
        "outputId": "964a7fbd-983f-4f69-e938-8636e2e061cd"
      },
      "source": [
        " !pip install streamlit\n",
        " !pip install pyngrok==4.1.1\n",
        " from pyngrok import ngrok"
      ],
      "execution_count": 42,
      "outputs": [
        {
          "output_type": "stream",
          "text": [
            "Requirement already satisfied: streamlit in /usr/local/lib/python3.7/dist-packages (0.83.0)\n",
            "Requirement already satisfied: requests in /usr/local/lib/python3.7/dist-packages (from streamlit) (2.23.0)\n",
            "Requirement already satisfied: click<8.0,>=7.0 in /usr/local/lib/python3.7/dist-packages (from streamlit) (7.1.2)\n",
            "Requirement already satisfied: watchdog; platform_system != \"Darwin\" in /usr/local/lib/python3.7/dist-packages (from streamlit) (2.1.2)\n",
            "Requirement already satisfied: base58 in /usr/local/lib/python3.7/dist-packages (from streamlit) (2.1.0)\n",
            "Requirement already satisfied: packaging in /usr/local/lib/python3.7/dist-packages (from streamlit) (20.9)\n",
            "Requirement already satisfied: pyarrow; python_version < \"3.9\" in /usr/local/lib/python3.7/dist-packages (from streamlit) (3.0.0)\n",
            "Requirement already satisfied: cachetools>=4.0 in /usr/local/lib/python3.7/dist-packages (from streamlit) (4.2.2)\n",
            "Requirement already satisfied: pandas>=0.21.0 in /usr/local/lib/python3.7/dist-packages (from streamlit) (1.1.5)\n",
            "Requirement already satisfied: astor in /usr/local/lib/python3.7/dist-packages (from streamlit) (0.8.1)\n",
            "Requirement already satisfied: python-dateutil in /usr/local/lib/python3.7/dist-packages (from streamlit) (2.8.1)\n",
            "Requirement already satisfied: tzlocal in /usr/local/lib/python3.7/dist-packages (from streamlit) (1.5.1)\n",
            "Requirement already satisfied: toml in /usr/local/lib/python3.7/dist-packages (from streamlit) (0.10.2)\n",
            "Requirement already satisfied: tornado>=5.0 in /usr/local/lib/python3.7/dist-packages (from streamlit) (5.1.1)\n",
            "Requirement already satisfied: gitpython in /usr/local/lib/python3.7/dist-packages (from streamlit) (3.1.18)\n",
            "Requirement already satisfied: validators in /usr/local/lib/python3.7/dist-packages (from streamlit) (0.18.2)\n",
            "Requirement already satisfied: pydeck>=0.1.dev5 in /usr/local/lib/python3.7/dist-packages (from streamlit) (0.6.2)\n",
            "Requirement already satisfied: blinker in /usr/local/lib/python3.7/dist-packages (from streamlit) (1.4)\n",
            "Requirement already satisfied: protobuf!=3.11,>=3.6.0 in /usr/local/lib/python3.7/dist-packages (from streamlit) (3.12.4)\n",
            "Requirement already satisfied: altair>=3.2.0 in /usr/local/lib/python3.7/dist-packages (from streamlit) (4.1.0)\n",
            "Requirement already satisfied: numpy in /usr/local/lib/python3.7/dist-packages (from streamlit) (1.19.5)\n",
            "Requirement already satisfied: pillow>=6.2.0 in /usr/local/lib/python3.7/dist-packages (from streamlit) (7.1.2)\n",
            "Requirement already satisfied: chardet<4,>=3.0.2 in /usr/local/lib/python3.7/dist-packages (from requests->streamlit) (3.0.4)\n",
            "Requirement already satisfied: certifi>=2017.4.17 in /usr/local/lib/python3.7/dist-packages (from requests->streamlit) (2021.5.30)\n",
            "Requirement already satisfied: idna<3,>=2.5 in /usr/local/lib/python3.7/dist-packages (from requests->streamlit) (2.10)\n",
            "Requirement already satisfied: urllib3!=1.25.0,!=1.25.1,<1.26,>=1.21.1 in /usr/local/lib/python3.7/dist-packages (from requests->streamlit) (1.24.3)\n",
            "Requirement already satisfied: pyparsing>=2.0.2 in /usr/local/lib/python3.7/dist-packages (from packaging->streamlit) (2.4.7)\n",
            "Requirement already satisfied: pytz>=2017.2 in /usr/local/lib/python3.7/dist-packages (from pandas>=0.21.0->streamlit) (2018.9)\n",
            "Requirement already satisfied: six>=1.5 in /usr/local/lib/python3.7/dist-packages (from python-dateutil->streamlit) (1.15.0)\n",
            "Requirement already satisfied: typing-extensions>=3.7.4.0; python_version < \"3.8\" in /usr/local/lib/python3.7/dist-packages (from gitpython->streamlit) (3.7.4.3)\n",
            "Requirement already satisfied: gitdb<5,>=4.0.1 in /usr/local/lib/python3.7/dist-packages (from gitpython->streamlit) (4.0.7)\n",
            "Requirement already satisfied: decorator>=3.4.0 in /usr/local/lib/python3.7/dist-packages (from validators->streamlit) (4.4.2)\n",
            "Requirement already satisfied: jinja2>=2.10.1 in /usr/local/lib/python3.7/dist-packages (from pydeck>=0.1.dev5->streamlit) (2.11.3)\n",
            "Requirement already satisfied: ipykernel>=5.1.2; python_version >= \"3.4\" in /usr/local/lib/python3.7/dist-packages (from pydeck>=0.1.dev5->streamlit) (5.5.5)\n",
            "Requirement already satisfied: traitlets>=4.3.2 in /usr/local/lib/python3.7/dist-packages (from pydeck>=0.1.dev5->streamlit) (5.0.5)\n",
            "Requirement already satisfied: ipywidgets>=7.0.0 in /usr/local/lib/python3.7/dist-packages (from pydeck>=0.1.dev5->streamlit) (7.6.3)\n",
            "Requirement already satisfied: setuptools in /usr/local/lib/python3.7/dist-packages (from protobuf!=3.11,>=3.6.0->streamlit) (57.0.0)\n",
            "Requirement already satisfied: toolz in /usr/local/lib/python3.7/dist-packages (from altair>=3.2.0->streamlit) (0.11.1)\n",
            "Requirement already satisfied: entrypoints in /usr/local/lib/python3.7/dist-packages (from altair>=3.2.0->streamlit) (0.3)\n",
            "Requirement already satisfied: jsonschema in /usr/local/lib/python3.7/dist-packages (from altair>=3.2.0->streamlit) (2.6.0)\n",
            "Requirement already satisfied: smmap<5,>=3.0.1 in /usr/local/lib/python3.7/dist-packages (from gitdb<5,>=4.0.1->gitpython->streamlit) (4.0.0)\n",
            "Requirement already satisfied: MarkupSafe>=0.23 in /usr/local/lib/python3.7/dist-packages (from jinja2>=2.10.1->pydeck>=0.1.dev5->streamlit) (2.0.1)\n",
            "Requirement already satisfied: jupyter-client in /usr/local/lib/python3.7/dist-packages (from ipykernel>=5.1.2; python_version >= \"3.4\"->pydeck>=0.1.dev5->streamlit) (5.3.5)\n",
            "Requirement already satisfied: ipython>=5.0.0 in /usr/local/lib/python3.7/dist-packages (from ipykernel>=5.1.2; python_version >= \"3.4\"->pydeck>=0.1.dev5->streamlit) (5.5.0)\n",
            "Requirement already satisfied: ipython-genutils in /usr/local/lib/python3.7/dist-packages (from traitlets>=4.3.2->pydeck>=0.1.dev5->streamlit) (0.2.0)\n",
            "Requirement already satisfied: nbformat>=4.2.0 in /usr/local/lib/python3.7/dist-packages (from ipywidgets>=7.0.0->pydeck>=0.1.dev5->streamlit) (5.1.3)\n",
            "Requirement already satisfied: jupyterlab-widgets>=1.0.0; python_version >= \"3.6\" in /usr/local/lib/python3.7/dist-packages (from ipywidgets>=7.0.0->pydeck>=0.1.dev5->streamlit) (1.0.0)\n",
            "Requirement already satisfied: widgetsnbextension~=3.5.0 in /usr/local/lib/python3.7/dist-packages (from ipywidgets>=7.0.0->pydeck>=0.1.dev5->streamlit) (3.5.1)\n",
            "Requirement already satisfied: pyzmq>=13 in /usr/local/lib/python3.7/dist-packages (from jupyter-client->ipykernel>=5.1.2; python_version >= \"3.4\"->pydeck>=0.1.dev5->streamlit) (22.1.0)\n",
            "Requirement already satisfied: jupyter-core>=4.6.0 in /usr/local/lib/python3.7/dist-packages (from jupyter-client->ipykernel>=5.1.2; python_version >= \"3.4\"->pydeck>=0.1.dev5->streamlit) (4.7.1)\n",
            "Requirement already satisfied: pygments in /usr/local/lib/python3.7/dist-packages (from ipython>=5.0.0->ipykernel>=5.1.2; python_version >= \"3.4\"->pydeck>=0.1.dev5->streamlit) (2.6.1)\n",
            "Requirement already satisfied: prompt-toolkit<2.0.0,>=1.0.4 in /usr/local/lib/python3.7/dist-packages (from ipython>=5.0.0->ipykernel>=5.1.2; python_version >= \"3.4\"->pydeck>=0.1.dev5->streamlit) (1.0.18)\n",
            "Requirement already satisfied: simplegeneric>0.8 in /usr/local/lib/python3.7/dist-packages (from ipython>=5.0.0->ipykernel>=5.1.2; python_version >= \"3.4\"->pydeck>=0.1.dev5->streamlit) (0.8.1)\n",
            "Requirement already satisfied: pexpect; sys_platform != \"win32\" in /usr/local/lib/python3.7/dist-packages (from ipython>=5.0.0->ipykernel>=5.1.2; python_version >= \"3.4\"->pydeck>=0.1.dev5->streamlit) (4.8.0)\n",
            "Requirement already satisfied: pickleshare in /usr/local/lib/python3.7/dist-packages (from ipython>=5.0.0->ipykernel>=5.1.2; python_version >= \"3.4\"->pydeck>=0.1.dev5->streamlit) (0.7.5)\n",
            "Requirement already satisfied: notebook>=4.4.1 in /usr/local/lib/python3.7/dist-packages (from widgetsnbextension~=3.5.0->ipywidgets>=7.0.0->pydeck>=0.1.dev5->streamlit) (5.3.1)\n",
            "Requirement already satisfied: wcwidth in /usr/local/lib/python3.7/dist-packages (from prompt-toolkit<2.0.0,>=1.0.4->ipython>=5.0.0->ipykernel>=5.1.2; python_version >= \"3.4\"->pydeck>=0.1.dev5->streamlit) (0.2.5)\n",
            "Requirement already satisfied: ptyprocess>=0.5 in /usr/local/lib/python3.7/dist-packages (from pexpect; sys_platform != \"win32\"->ipython>=5.0.0->ipykernel>=5.1.2; python_version >= \"3.4\"->pydeck>=0.1.dev5->streamlit) (0.7.0)\n",
            "Requirement already satisfied: terminado>=0.8.1 in /usr/local/lib/python3.7/dist-packages (from notebook>=4.4.1->widgetsnbextension~=3.5.0->ipywidgets>=7.0.0->pydeck>=0.1.dev5->streamlit) (0.10.1)\n",
            "Requirement already satisfied: nbconvert in /usr/local/lib/python3.7/dist-packages (from notebook>=4.4.1->widgetsnbextension~=3.5.0->ipywidgets>=7.0.0->pydeck>=0.1.dev5->streamlit) (5.6.1)\n",
            "Requirement already satisfied: Send2Trash in /usr/local/lib/python3.7/dist-packages (from notebook>=4.4.1->widgetsnbextension~=3.5.0->ipywidgets>=7.0.0->pydeck>=0.1.dev5->streamlit) (1.5.0)\n",
            "Requirement already satisfied: defusedxml in /usr/local/lib/python3.7/dist-packages (from nbconvert->notebook>=4.4.1->widgetsnbextension~=3.5.0->ipywidgets>=7.0.0->pydeck>=0.1.dev5->streamlit) (0.7.1)\n",
            "Requirement already satisfied: bleach in /usr/local/lib/python3.7/dist-packages (from nbconvert->notebook>=4.4.1->widgetsnbextension~=3.5.0->ipywidgets>=7.0.0->pydeck>=0.1.dev5->streamlit) (3.3.0)\n",
            "Requirement already satisfied: mistune<2,>=0.8.1 in /usr/local/lib/python3.7/dist-packages (from nbconvert->notebook>=4.4.1->widgetsnbextension~=3.5.0->ipywidgets>=7.0.0->pydeck>=0.1.dev5->streamlit) (0.8.4)\n",
            "Requirement already satisfied: pandocfilters>=1.4.1 in /usr/local/lib/python3.7/dist-packages (from nbconvert->notebook>=4.4.1->widgetsnbextension~=3.5.0->ipywidgets>=7.0.0->pydeck>=0.1.dev5->streamlit) (1.4.3)\n",
            "Requirement already satisfied: testpath in /usr/local/lib/python3.7/dist-packages (from nbconvert->notebook>=4.4.1->widgetsnbextension~=3.5.0->ipywidgets>=7.0.0->pydeck>=0.1.dev5->streamlit) (0.5.0)\n",
            "Requirement already satisfied: webencodings in /usr/local/lib/python3.7/dist-packages (from bleach->nbconvert->notebook>=4.4.1->widgetsnbextension~=3.5.0->ipywidgets>=7.0.0->pydeck>=0.1.dev5->streamlit) (0.5.1)\n",
            "Requirement already satisfied: pyngrok==4.1.1 in /usr/local/lib/python3.7/dist-packages (4.1.1)\n",
            "Requirement already satisfied: PyYAML in /usr/local/lib/python3.7/dist-packages (from pyngrok==4.1.1) (3.13)\n",
            "Requirement already satisfied: future in /usr/local/lib/python3.7/dist-packages (from pyngrok==4.1.1) (0.16.0)\n",
            "time: 5.39 s (started: 2021-06-19 15:38:05 +00:00)\n"
          ],
          "name": "stdout"
        }
      ]
    },
    {
      "cell_type": "markdown",
      "metadata": {
        "id": "uUpOOG-w21D_"
      },
      "source": [
        "Deployment\n",
        "1. Webpage\n",
        "2. WebApp\n",
        "3. Mobile App\n",
        "\n"
      ]
    },
    {
      "cell_type": "code",
      "metadata": {
        "id": "mTV2fCd07Cbr",
        "colab": {
          "base_uri": "https://localhost:8080/"
        },
        "outputId": "2215373a-4168-4bd7-f029-d9df0c233636"
      },
      "source": [
        "!pip install ipykernel"
      ],
      "execution_count": 44,
      "outputs": [
        {
          "output_type": "stream",
          "text": [
            "Requirement already satisfied: ipykernel in /usr/local/lib/python3.7/dist-packages (5.5.5)\n",
            "Requirement already satisfied: tornado>=4.2 in /usr/local/lib/python3.7/dist-packages (from ipykernel) (5.1.1)\n",
            "Requirement already satisfied: ipython>=5.0.0 in /usr/local/lib/python3.7/dist-packages (from ipykernel) (5.5.0)\n",
            "Requirement already satisfied: jupyter-client in /usr/local/lib/python3.7/dist-packages (from ipykernel) (5.3.5)\n",
            "Requirement already satisfied: traitlets>=4.1.0 in /usr/local/lib/python3.7/dist-packages (from ipykernel) (5.0.5)\n",
            "Requirement already satisfied: prompt-toolkit<2.0.0,>=1.0.4 in /usr/local/lib/python3.7/dist-packages (from ipython>=5.0.0->ipykernel) (1.0.18)\n",
            "Requirement already satisfied: pickleshare in /usr/local/lib/python3.7/dist-packages (from ipython>=5.0.0->ipykernel) (0.7.5)\n",
            "Requirement already satisfied: setuptools>=18.5 in /usr/local/lib/python3.7/dist-packages (from ipython>=5.0.0->ipykernel) (57.0.0)\n",
            "Requirement already satisfied: simplegeneric>0.8 in /usr/local/lib/python3.7/dist-packages (from ipython>=5.0.0->ipykernel) (0.8.1)\n",
            "Requirement already satisfied: decorator in /usr/local/lib/python3.7/dist-packages (from ipython>=5.0.0->ipykernel) (4.4.2)\n",
            "Requirement already satisfied: pexpect; sys_platform != \"win32\" in /usr/local/lib/python3.7/dist-packages (from ipython>=5.0.0->ipykernel) (4.8.0)\n",
            "Requirement already satisfied: pygments in /usr/local/lib/python3.7/dist-packages (from ipython>=5.0.0->ipykernel) (2.6.1)\n",
            "Requirement already satisfied: jupyter-core>=4.6.0 in /usr/local/lib/python3.7/dist-packages (from jupyter-client->ipykernel) (4.7.1)\n",
            "Requirement already satisfied: python-dateutil>=2.1 in /usr/local/lib/python3.7/dist-packages (from jupyter-client->ipykernel) (2.8.1)\n",
            "Requirement already satisfied: pyzmq>=13 in /usr/local/lib/python3.7/dist-packages (from jupyter-client->ipykernel) (22.1.0)\n",
            "Requirement already satisfied: ipython-genutils in /usr/local/lib/python3.7/dist-packages (from traitlets>=4.1.0->ipykernel) (0.2.0)\n",
            "Requirement already satisfied: six>=1.9.0 in /usr/local/lib/python3.7/dist-packages (from prompt-toolkit<2.0.0,>=1.0.4->ipython>=5.0.0->ipykernel) (1.15.0)\n",
            "Requirement already satisfied: wcwidth in /usr/local/lib/python3.7/dist-packages (from prompt-toolkit<2.0.0,>=1.0.4->ipython>=5.0.0->ipykernel) (0.2.5)\n",
            "Requirement already satisfied: ptyprocess>=0.5 in /usr/local/lib/python3.7/dist-packages (from pexpect; sys_platform != \"win32\"->ipython>=5.0.0->ipykernel) (0.7.0)\n",
            "time: 2.74 s (started: 2021-06-19 15:39:44 +00:00)\n"
          ],
          "name": "stdout"
        }
      ]
    },
    {
      "cell_type": "code",
      "metadata": {
        "colab": {
          "base_uri": "https://localhost:8080/"
        },
        "id": "zcfi9dDZ2tLQ",
        "outputId": "ab63fc1d-3d05-4989-a111-e50dcf1116dc"
      },
      "source": [
        "%%writefile app.py\n",
        "import streamlit as st\n",
        "import os\n",
        "import matplotlib.pyplot as plt\n",
        "import numpy as np\n",
        "from skimage.io import imread\n",
        "from skimage.transform import resize\n",
        "import pickle\n",
        "from PIL import Image\n",
        "st.set_option('deprecation.showfileUploaderEncoding',False)\n",
        "st.title('Image Classifier of Sunflower and Cars using Machine Learning')\n",
        "st.text('Upload a image')\n",
        "\n",
        "model=pickle.load(open('img_model.p','rb'))\n",
        "\n",
        "uploaded_file=st.file_uploader(\"Choose an image...\",type=\"jpg\")\n",
        "if uploaded_file is not None:\n",
        "  img=Image.open(uploaded_file)\n",
        "  st.image(img,caption='Uploaded Image')\n",
        "\n",
        "  if st.button('PREDICT'):\n",
        "    CATEGORY= ['Most Beautiful Sunflowers','Good Cars jpg']\n",
        "    st.write('Result...')\n",
        "    flat_data =[]\n",
        "    img=np.array(img)\n",
        "    img_resized=resize(img,(150,150,3))\n",
        "    flat_data.append(img_resized.flatten())\n",
        "    flat_data = np.array(flat_data)\n",
        "    \n",
        "    \n",
        "    y_out=model.predict(flat_data)\n",
        "    y_out=CATEGORY[y_out[0]]\n",
        "    st.title(f'Predicted output is :{y_out}')\n",
        "   \n",
        "\n"
      ],
      "execution_count": 65,
      "outputs": [
        {
          "output_type": "stream",
          "text": [
            "Overwriting app.py\n",
            "time: 5.31 ms (started: 2021-06-19 16:07:53 +00:00)\n"
          ],
          "name": "stdout"
        }
      ]
    },
    {
      "cell_type": "code",
      "metadata": {
        "id": "17I_is6q7g8s"
      },
      "source": [
        "from pyngrok import ngrok\n"
      ],
      "execution_count": null,
      "outputs": []
    },
    {
      "cell_type": "code",
      "metadata": {
        "colab": {
          "base_uri": "https://localhost:8080/"
        },
        "id": "kSOtyipB3PZe",
        "outputId": "c69ebb79-647b-4c24-8702-f3043b987b47"
      },
      "source": [
        "!nohup streamlit run app.py & "
      ],
      "execution_count": 46,
      "outputs": [
        {
          "output_type": "stream",
          "text": [
            "nohup: appending output to 'nohup.out'\n",
            "time: 123 ms (started: 2021-06-19 15:42:42 +00:00)\n"
          ],
          "name": "stdout"
        }
      ]
    },
    {
      "cell_type": "code",
      "metadata": {
        "id": "TJkxHbB03feX",
        "colab": {
          "base_uri": "https://localhost:8080/",
          "height": 35
        },
        "outputId": "0cfc496e-5a43-4ebb-bbdf-83cbe8a205d7"
      },
      "source": [
        "url = ngrok.connect(port='8501')\n",
        "url"
      ],
      "execution_count": 47,
      "outputs": [
        {
          "output_type": "execute_result",
          "data": {
            "application/vnd.google.colaboratory.intrinsic+json": {
              "type": "string"
            },
            "text/plain": [
              "'http://4c4bf7cf2899.ngrok.io'"
            ]
          },
          "metadata": {
            "tags": []
          },
          "execution_count": 47
        },
        {
          "output_type": "stream",
          "text": [
            "time: 613 ms (started: 2021-06-19 15:42:51 +00:00)\n"
          ],
          "name": "stdout"
        }
      ]
    },
    {
      "cell_type": "code",
      "metadata": {
        "id": "r0bHfDtSIBNF"
      },
      "source": [
        "ngrok.kill()"
      ],
      "execution_count": null,
      "outputs": []
    }
  ]
}